{
  "nbformat": 4,
  "nbformat_minor": 0,
  "metadata": {
    "colab": {
      "provenance": [],
      "include_colab_link": true
    },
    "kernelspec": {
      "name": "python3",
      "display_name": "Python 3"
    },
    "language_info": {
      "name": "python"
    }
  },
  "cells": [
    {
      "cell_type": "markdown",
      "metadata": {
        "id": "view-in-github",
        "colab_type": "text"
      },
      "source": [
        "<a href=\"https://colab.research.google.com/github/etmaca5/Biology/blob/main/Casanova_Etienne_hw3.ipynb\" target=\"_parent\"><img src=\"https://colab.research.google.com/assets/colab-badge.svg\" alt=\"Open In Colab\"/></a>"
      ]
    },
    {
      "cell_type": "markdown",
      "source": [
        "# Homework 3: Deep Time"
      ],
      "metadata": {
        "id": "F05W_4U1s3Jg"
      }
    },
    {
      "cell_type": "markdown",
      "source": [
        "#### **Please read the following instructions carefully before you continue.**\n",
        "\n",
        "This template notebook is for Homework 3, due Thursday, April 27th, 2023.\n",
        "\n",
        "To use this template, click `File` > `Save a copy in Drive`. You now have your own editable copy to which you can add your code. However, before you make changes, note that we've scaffolded this notebook to help get you started:\n",
        "\n",
        "- We've already written `import` statements for all the modules you should need. This week, you could feasibly do everything without importing any external modules; do whatever is most helpful for you.\n",
        "- We provide an introduction that lays out one potential approach for solving the problem, explaining what each logical \"chunk\" of your code ought to accomplish. You can use this as a starting point for writing your own code.  \n",
        "\n",
        "Of course, if you'd rather do your own thing, you are not required to follow the path we've laid out, or use the modules we've recommended. However, a few things _are_ required (refer to the [Intro to Colab](https://colab.research.google.com/drive/1fq_HaiuYb1L18uGcoA3eGs6taiUafR-6?usp=sharing) notebook):\n",
        "\n",
        "- _Literate style._ Dumping everything into a single, monstrous code cell is illegible and unacceptable. Remember to divide your code into reasonable, logical chunks, and to follow up each code cell with a text cell that explains and interprets the results.\n",
        "- _Comments._ That said, writing \"literate\" code is not an excuse to avoid writing comments :)\n",
        "- _Problem labels/numbers._ Please use text cells to clearly label where your solution to one problem ends, and the next begins.\n",
        "\n",
        "Remember that a human is going to read and grade your notebook, so it is in your best interest to help them understand your work clearly. Your finished solution to a given problem should flow coherently from one code cell to the next. (Our \"scaffold\" helps you do this!)\n",
        "\n",
        "If you get stuck, remember that [tutorials](https://bi1.caltech.edu/2023/tutorials) are held in-person each week."
      ],
      "metadata": {
        "id": "un9uDerZW6Qt"
      }
    },
    {
      "cell_type": "markdown",
      "source": [
        "---"
      ],
      "metadata": {
        "id": "P1qG5PeMZV7X"
      }
    },
    {
      "cell_type": "markdown",
      "source": [
        "---"
      ],
      "metadata": {
        "id": "5NjmrmdvaibF"
      }
    },
    {
      "cell_type": "markdown",
      "source": [
        "## Introduction"
      ],
      "metadata": {
        "id": "TwHJZJyUNC5A"
      }
    },
    {
      "cell_type": "markdown",
      "source": [
        "This week's code problem comes from Question 2b, which asks you to compare DNA sequence similarity between Galapagos giant tortoises. If this sounds very similar to the challenge we gave you last week (when comparing frog sequences), that's because it is!\n",
        "\n",
        "Feel free to re-use any of the code you wrote last week as you see fit. As always, you should still take care to thoroughly comment on your approach, and surround each code cell with explanatory text."
      ],
      "metadata": {
        "id": "GmlaCoQMNIUY"
      }
    },
    {
      "cell_type": "markdown",
      "source": [
        "## Question 2b"
      ],
      "metadata": {
        "id": "qziKM1-MZYks"
      }
    },
    {
      "cell_type": "markdown",
      "source": [
        "_add text and code cells here_"
      ],
      "metadata": {
        "id": "x8EUPDzGTfZx"
      }
    },
    {
      "cell_type": "code",
      "source": [
        "import numpy as np  # numeric computing\n",
        "from google.colab import drive\n",
        "drive.mount('/content/drive/')\n"
      ],
      "metadata": {
        "colab": {
          "base_uri": "https://localhost:8080/"
        },
        "id": "RscjokBINf2F",
        "outputId": "ae1aaece-6d03-4998-b78f-ca879d428746"
      },
      "execution_count": null,
      "outputs": [
        {
          "output_type": "stream",
          "name": "stdout",
          "text": [
            "Mounted at /content/drive/\n"
          ]
        }
      ]
    },
    {
      "cell_type": "code",
      "source": [
        "\n",
        "def add_file_dict(filename):\n",
        "  output_seqs = []\n",
        "  with open(filename, 'r') as file:\n",
        "    header = \"\"\n",
        "    rna_seq = \"\"\n",
        "    for line in file:\n",
        "      if(line[0] == '>'):\n",
        "        if(header !=\"\"):\n",
        "            output_seqs.append([header, rna_seq]);\n",
        "        header = line.strip('\\n');\n",
        "        rna_seq = \"\";\n",
        "      else:\n",
        "          rna_seq += line.strip('\\n');\n",
        "    output_seqs.append([header, rna_seq]);\n",
        "    return output_seqs\n",
        "\n",
        "seqs = add_file_dict('/content/drive/My Drive/aln-fasta.txt')\n",
        "\n",
        "def simDNA(seq1, seq2):\n",
        "  differences = len(seq1) % len(seq2); # this adds the difference in length between the sequences to the total differences\n",
        "  for i in range(len(seq1)):\n",
        "    if(i > len(seq2) - 1): # this ensures that we are not accessing an out of bounds if the sequences are different lengths\n",
        "      break;\n",
        "    if(not((seq1[i] == '-') or (seq2[i] == '-'))):\n",
        "        if(not seq1[i]==seq2[i]):\n",
        "          differences+=1\n",
        "  return differences\n",
        "\n",
        "\n",
        "\n",
        "print(\"Comparing all the species with one another to find the differences:\")\n",
        "\n",
        "def print_results(seq):\n",
        "  for i in range(0,len(seq)):\n",
        "    seq1 = seq[i][1]\n",
        "    for j in range(i+1, len(seq)):\n",
        "      if(i==j): continue\n",
        "      seq2 = seq[j][1]\n",
        "      # prints the number of differences between each two subspecies\n",
        "      # no duplicate comparisons ( only 10 comparisons required)\n",
        "      print(\"   \" + str(seq[i][0])[1:-1] + \"   and   \" + str(seq[j][0])[1:-1] + \"   have:\")\n",
        "      print(\"       \" + str(simDNA(seq1, seq2)) + \" differences\")\n",
        "print_results(seqs)\n",
        "\n",
        "\n",
        "\n",
        "\n"
      ],
      "metadata": {
        "colab": {
          "base_uri": "https://localhost:8080/"
        },
        "id": "v77coJreLcCX",
        "outputId": "22580e23-4b5a-4b8d-97db-1c398b2095e4"
      },
      "execution_count": null,
      "outputs": [
        {
          "output_type": "stream",
          "name": "stdout",
          "text": [
            "Comparing all the species with one another to find the differences:\n",
            "   Wolf_Isabela AF548228.   and   Darwin_Isabela AF548230.   have:\n",
            "       31 differences\n",
            "   Wolf_Isabela AF548228.   and   Alcedo_Isabela AF548264.   have:\n",
            "       31 differences\n",
            "   Wolf_Isabela AF548228.   and   Sierra_Negra_Isabela AF548232.   have:\n",
            "       28 differences\n",
            "   Wolf_Isabela AF548228.   and   Cerro_Azul_Isabela AF548237.   have:\n",
            "       32 differences\n",
            "   Darwin_Isabela AF548230.   and   Alcedo_Isabela AF548264.   have:\n",
            "       2 differences\n",
            "   Darwin_Isabela AF548230.   and   Sierra_Negra_Isabela AF548232.   have:\n",
            "       7 differences\n",
            "   Darwin_Isabela AF548230.   and   Cerro_Azul_Isabela AF548237.   have:\n",
            "       9 differences\n",
            "   Alcedo_Isabela AF548264.   and   Sierra_Negra_Isabela AF548232.   have:\n",
            "       5 differences\n",
            "   Alcedo_Isabela AF548264.   and   Cerro_Azul_Isabela AF548237.   have:\n",
            "       9 differences\n",
            "   Sierra_Negra_Isabela AF548232.   and   Cerro_Azul_Isabela AF548237.   have:\n",
            "       4 differences\n"
          ]
        }
      ]
    },
    {
      "cell_type": "markdown",
      "source": [
        "note: only 10 comparisons are necessary in order to compare every species, the code is optimized to only show those 10 compares and not excess repeat ones"
      ],
      "metadata": {
        "id": "hY3_XrynqBgP"
      }
    },
    {
      "cell_type": "markdown",
      "source": [
        "Now for 2d, using the exact same functions as above"
      ],
      "metadata": {
        "id": "Q0cu7XT9n0kQ"
      }
    },
    {
      "cell_type": "code",
      "source": [
        "new_seqs = add_file_dict('/content/drive/My Drive/fasta_2.txt')\n",
        "print_results(new_seqs)"
      ],
      "metadata": {
        "colab": {
          "base_uri": "https://localhost:8080/"
        },
        "id": "xBS9u3m9nz8u",
        "outputId": "17ac85c6-1e1d-4ed7-88f9-cc690f22343d"
      },
      "execution_count": null,
      "outputs": [
        {
          "output_type": "stream",
          "name": "stdout",
          "text": [
            "   Geochelone_carbonaria_Northern_South_America AF192926.1+AF192928.   and   Geochelone_denticulata_Brazil AF192927.1+AF192941.   have:\n",
            "       69 differences\n",
            "   Geochelone_carbonaria_Northern_South_America AF192926.1+AF192928.   and   Geochelone_chilensis_Bolivia AF192924.1+AF192929.   have:\n",
            "       80 differences\n",
            "   Geochelone_carbonaria_Northern_South_America AF192926.1+AF192928.   and   Geochelone_nigra_Wolf_Isabela AF192915.1+AF192939.   have:\n",
            "       72 differences\n",
            "   Geochelone_carbonaria_Northern_South_America AF192926.1+AF192928.   and   Geochelone_nigra_Darwin_Isabela AF192916.1+AF192938.   have:\n",
            "       76 differences\n",
            "   Geochelone_denticulata_Brazil AF192927.1+AF192941.   and   Geochelone_chilensis_Bolivia AF192924.1+AF192929.   have:\n",
            "       80 differences\n",
            "   Geochelone_denticulata_Brazil AF192927.1+AF192941.   and   Geochelone_nigra_Wolf_Isabela AF192915.1+AF192939.   have:\n",
            "       70 differences\n",
            "   Geochelone_denticulata_Brazil AF192927.1+AF192941.   and   Geochelone_nigra_Darwin_Isabela AF192916.1+AF192938.   have:\n",
            "       72 differences\n",
            "   Geochelone_chilensis_Bolivia AF192924.1+AF192929.   and   Geochelone_nigra_Wolf_Isabela AF192915.1+AF192939.   have:\n",
            "       54 differences\n",
            "   Geochelone_chilensis_Bolivia AF192924.1+AF192929.   and   Geochelone_nigra_Darwin_Isabela AF192916.1+AF192938.   have:\n",
            "       51 differences\n",
            "   Geochelone_nigra_Wolf_Isabela AF192915.1+AF192939.   and   Geochelone_nigra_Darwin_Isabela AF192916.1+AF192938.   have:\n",
            "       11 differences\n"
          ]
        }
      ]
    },
    {
      "cell_type": "markdown",
      "source": [
        "The closes species to the Volcano Wolf is from Bolivia, and the closest to Volcano Darwin species is also the Bolivia species. This implies that the same species (Geochelone Chilensis) colonized both parts of the island, but at different times (Inferred from the conclusion of 2c.)"
      ],
      "metadata": {
        "id": "88AJuB88nCzD"
      }
    },
    {
      "cell_type": "markdown",
      "source": [
        "---"
      ],
      "metadata": {
        "id": "Du6YvQPETo-g"
      }
    },
    {
      "cell_type": "markdown",
      "source": [
        "### Submission instructions"
      ],
      "metadata": {
        "id": "aJAscGKQIAnj"
      }
    },
    {
      "cell_type": "markdown",
      "source": [
        "When you're finished, recall the steps for submitting Colab notebooks:\n",
        "\n",
        "1. Run all the cells from top-to-bottom, in order (`Runtime` > `Run all`).\n",
        "2. Once the entire notebook has completed running and the output of all cells is visible, save it (`File` > `Save`).\n",
        "3. Download the notebook in `.ipynb` format (`File` > `Download` > `Download .ipynb`).\n",
        "4. Rename the file according to the usual convention (`lastname_firstname_hw#.ipynb`), if you haven't already.\n",
        "5. Upload the file to Canvas.\n"
      ],
      "metadata": {
        "id": "mNiIL0tcIE-S"
      }
    }
  ]
}