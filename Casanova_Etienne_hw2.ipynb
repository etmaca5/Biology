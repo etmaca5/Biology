{
  "nbformat": 4,
  "nbformat_minor": 0,
  "metadata": {
    "colab": {
      "provenance": [],
      "include_colab_link": true
    },
    "kernelspec": {
      "name": "python3",
      "display_name": "Python 3"
    },
    "language_info": {
      "name": "python"
    }
  },
  "cells": [
    {
      "cell_type": "markdown",
      "metadata": {
        "id": "view-in-github",
        "colab_type": "text"
      },
      "source": [
        "<a href=\"https://colab.research.google.com/github/etmaca5/Biology/blob/main/Casanova_Etienne_hw2.ipynb\" target=\"_parent\"><img src=\"https://colab.research.google.com/assets/colab-badge.svg\" alt=\"Open In Colab\"/></a>"
      ]
    },
    {
      "cell_type": "markdown",
      "source": [
        "# Homework 2: Biogeography"
      ],
      "metadata": {
        "id": "F05W_4U1s3Jg"
      }
    },
    {
      "cell_type": "markdown",
      "source": [
        "#### **Please read the following instructions carefully before you continue.**\n",
        "\n",
        "This template notebook is for Homework 2, due Thursday, April 20th, 2023.\n",
        "\n",
        "To use this template, click `File` > `Save a copy in Drive`. You now have your own editable copy to which you can add your code. However, before you make changes, note that we've scaffolded this notebook to help get you started:\n",
        "\n",
        "- We've already written `import` statements for all the modules you should need. This week, you could feasibly do everything without importing any external modules; do whatever is most helpful for you.\n",
        "- We provide an introduction that lays out one potential approach for solving the problem, explaining what each logical \"chunk\" of your code ought to accomplish. You can use this as a starting point for writing your own code.  \n",
        "\n",
        "Of course, if you'd rather do your own thing, you are not required to follow the path we've laid out, or use the modules we've recommended. However, a few things _are_ required (refer to the [Intro to Colab](https://colab.research.google.com/drive/1fq_HaiuYb1L18uGcoA3eGs6taiUafR-6?usp=sharing) notebook):\n",
        "\n",
        "- _Literate style._ Dumping everything into a single, monstrous code cell is illegible and unacceptable. Remember to divide your code into reasonable, logical chunks, and to follow up each code cell with a text cell that explains and interprets the results.\n",
        "- _Comments._ That said, writing \"literate\" code is not an excuse to avoid writing comments :)\n",
        "- _Problem labels/numbers._ Please use text cells to clearly label where your solution to one problem ends, and the next begins.\n",
        "\n",
        "Remember that a human is going to read and grade your notebook, so it is in your best interest to help them understand your work clearly. Your finished solution to a given problem should flow coherently from one code cell to the next. (Our \"scaffold\" helps you do this!)\n",
        "\n",
        "If you get stuck, remember that [tutorials](https://bi1.caltech.edu/2023/tutorials) are held in-person each week."
      ],
      "metadata": {
        "id": "un9uDerZW6Qt"
      }
    },
    {
      "cell_type": "markdown",
      "source": [
        "---"
      ],
      "metadata": {
        "id": "P1qG5PeMZV7X"
      }
    },
    {
      "cell_type": "code",
      "source": [
        "import numpy as np  # numeric computing"
      ],
      "metadata": {
        "id": "JYA-RnWCaiPA"
      },
      "execution_count": null,
      "outputs": []
    },
    {
      "cell_type": "markdown",
      "source": [
        "---"
      ],
      "metadata": {
        "id": "5NjmrmdvaibF"
      }
    },
    {
      "cell_type": "markdown",
      "source": [
        "## Introduction"
      ],
      "metadata": {
        "id": "TwHJZJyUNC5A"
      }
    },
    {
      "cell_type": "markdown",
      "source": [
        "This week's code problem comes from Question 2a, which asks you to compare DNA sequence similarity between species of African grassland frogs.\n",
        "\n",
        "- First, you need to read in the text files we've provided, and store the sequences in a variable, list, or other data structure. This might start like\n",
        "```python\n",
        "with open(path_to_file) as file:  # read in one of the fasta files\n",
        "    for line in file:  # parse each line\n",
        "        # find sequences and extract them\n",
        "```\n",
        "\n",
        "- Then, you should define a function that accepts two DNA sequences and scores their similarity. This might start like\n",
        "```python\n",
        "def simDNA(seq1, seq2):\n",
        "    \"\"\"This is a function that computes a similarity score between two aligned DNA sequences.\"\"\"\n",
        "    # your code here\n",
        "```\n",
        "- After checking that it works as expected, you can then incorporate that function into a `for` loop (or perhaps several) that applies it to every group of sequences that the problem statement asks you to."
      ],
      "metadata": {
        "id": "GmlaCoQMNIUY"
      }
    },
    {
      "cell_type": "markdown",
      "source": [
        "## Question 2a"
      ],
      "metadata": {
        "id": "qziKM1-MZYks"
      }
    },
    {
      "cell_type": "markdown",
      "source": [
        "_add text and code cells here_"
      ],
      "metadata": {
        "id": "x8EUPDzGTfZx"
      }
    },
    {
      "cell_type": "code",
      "source": [
        "from google.colab import drive\n",
        "drive.mount('/content/drive')\n",
        "\n",
        "\n",
        "\n"
      ],
      "metadata": {
        "colab": {
          "base_uri": "https://localhost:8080/"
        },
        "id": "rTIbMMloPAD5",
        "outputId": "3f529a65-480f-4ced-9fa5-8427dcdb1c81"
      },
      "execution_count": null,
      "outputs": [
        {
          "output_type": "stream",
          "name": "stdout",
          "text": [
            "Mounted at /content/drive\n"
          ]
        }
      ]
    },
    {
      "cell_type": "code",
      "source": [
        "def add_file_dict(filename):\n",
        "  output_seqs = []\n",
        "  with open(filename, 'r') as file:\n",
        "    header = \"\"\n",
        "    rna_seq = \"\"\n",
        "    for line in file:\n",
        "      if(line[0] == '>'):\n",
        "        if(header !=\"\"):\n",
        "            output_seqs.append([header, rna_seq]);\n",
        "        header = line.strip('\\n');\n",
        "        rna_seq = \"\";\n",
        "      else:\n",
        "          rna_seq += line.strip('\\n');\n",
        "    output_seqs.append([header, rna_seq]);\n",
        "    return output_seqs\n",
        "\n",
        "sao_seqs = add_file_dict('/content/drive/My Drive/frogs_st.txt')\n",
        "africa_seqs = add_file_dict('/content/drive/My Drive/frogs_africa.txt')\n",
        "print(sao_seqs)\n",
        "print(africa_seqs)"
      ],
      "metadata": {
        "colab": {
          "base_uri": "https://localhost:8080/"
        },
        "id": "Mya_1bulgSzM",
        "outputId": "cf5aa7a6-f68e-4175-8631-2ac6bf057a73"
      },
      "execution_count": null,
      "outputs": [
        {
          "output_type": "stream",
          "name": "stdout",
          "text": [
            "[['>Ptychadena newtoni, Sao Tome', '--------gcctgcccggtgac-acagtttaacggccgcggtatcctgaccgtgcaaaggtagcataatcacttgttctttaaatgaggactagaatcaacggcatcacgagggtcttactgtctcccccctctaatcagtgaaactgatctccccgtgaagaagcggggataaaaatataagacgagaagaccccatggagctttaagctcaacaaatactctttttcaccaacctcacatatct-gagaatctacttgttagctttaggttggggtgaccacggagtaaaactcaacctccataatgaaaagaataaaatcctaatctatgagct-acgcctctaagaatcaataaattgacataaaatgacccgaca--------cttcgatcaatgaaccaagttaccctggggataacagcgccatccacttcgagagcccctatcgacaagtgggtttacgacctcgatgttggatcagggtgtcccagtggtgcagccgctactaaaggttcgtttgttcaacgattaaaaccct-------------'], ['>Ptychadena newtoni, Sao Tome', '--------------------------gtttaacggccgcggtatcctgaccgtgcaaaggtagcataatcacttgttctttaaatgaggactagaatcaacggcatcacgagggtcttactgtctcccccctctaatcagtgaaactgatctccccgtgaagaagcggggataaaaatataagacgagaagaccccatggagctttaagctcaacaaatactctttttcaccaacctcacatatct-gagaatctacttgttagctttaggttggggtgaccacggagtaaaactcaacctccataatgaaaagaataaaatcctaatctatgagct-acgcctctaagaatcaataaattgacataaaatgacccgaca--------cttcgatcaatgaaccaagttaccctggggataacagcgccatccacttcgagagcccctatcgacaagtgggtttacgacctcgatgttggatcagggtgtcccagtggtgcagccgctactaaaggttcgtttgttcaacgattaaaaccct-------------'], ['>Ptychadena newtoni, Sao Tome', '--------gcctgcccggtgac-acagtttaacggccgcggtatcctgaccgtgcaaaggtagcataatcacttgttctttaaatgaggactagaatcaacggcatcacgagggtcttactgtctcccccctctaatcagtgaaactgatctccccgtgaagaagcggggataaaaatataagacgagaagaccccatggagctttaagctcaacaaatactctttttcaccaacctcacatatct-gagaatctacttgttagctttaggttggggtgaccacggagtaaaactcaacctccataatgaaaagaataaaatcctaatctatgagct-acgcctctaagaatcaataaattgacataaaatgacccgaca--------cttcgatcaatgaaccaagttaccctggggataacagcgccatccacttcgagagcccctatcgacaagtgggtttacgacctcgatgttggatcagggtgtcccagtggtgcagccgctactaaaggttcgtttgttcaacgattaaaaccct-------------']]\n",
            "[['>Ptychadena oxyrhynchus, South Africa, Kwambonambi', '------ccgcctgcccagtgacagg-attcaacggccgcggtactctaaccgtgcgaaggtagcacaatagcttgttctttaaataaggactagaatcaatggcttcacgagggttgtactgtctcctttttctaatcagtgaaactgatctccccgtgaagaagcggggatatacatataagacgagaagaccccatggagctttaaactcaatagatacccctctgctctaacatgataa-ctt-aggcacctatctattagttttgggttggggtgaccacggagtacaatctagcctccgcaatgaaaagaataatatcctaatccatgaggg-acacctctaagaattaatatattagcatacactgatccaataacc-t---atttgatcaatgaaccaagttaccctggggataacagcgcgatccacttcaagagttcctatcgacgagtgggtttacgacctcgatgttggatcanggtatcccggtggtgcagccgctactaaaggttcgtttgktcaacgattaaaaccctacgtgatctgagt'], ['>Ptychadena anchietae, South Africa, Mtunzini', '----------ctgcccagtgacagg-attcaacggccgcggtactctaaccgtgcgaaggtagcacaataacttgttctttaaataaggactagaatcaatggcttcacgagggttatactgtctcctttttctaatcagtgaaactgatctccccgtgaagaagcgggaatattactataagacgagaagaccccatggagcttaaaactaaataggtaccctctacaaattacatggtaa-tct-tggc-tttatctattagttttgggttggggtgaccgcggagaacagcctaacctccgcaatgaaaagaataatatcctaatctaagaggg-acacctctaagaattaataaattaacatatgatgatccaatattcat---atttgatcaatgaaccaagttaccctggggataacagcgcaatccacttcaagagtccctatcgacaagtgggtttacgacctcgatgttggatcagggtatcccggtggtgcagccgctactaaaggttcgtttggtcaacgattaaaaccctacgtgatctgagt'], ['>Ptychadena mascareniensis, Madagascar, Nahampoana', 'gaggtccagcctgcccggtgacata-gtttaacggccgcggtatcctgaccgtgcgaaggtagcataatcacttgttctttaaatggggactagaatcaacggcatcacgagggtcttactgtctcctttccccaatcagtgaaactgatctccccgtgaagaagcggggatataaatataagacgagaagaccccatggagcttcaagctcaacaattactctttcttaataactaggcatcttc-aaagatctatttgttagctttcggttggggtgaccacggagaaaaactcaacctccgtaatgaaaagaataaaatcctaatctaagagtcgacacctctaagaatcaacaaattggcataaaatgacccgata--------cttcgatcaatgaaccaagttaccctggggataacagcgccatccactttaagagttcatatcgacgagtgggtttacgacctcgatgttggatcagggtgtcccagtggtgcagccgctactaaaggttcgtttgttcaacgattaaaaccct-------------'], ['>Ptychadena mahnerti, Kenya, Mt Kenya', '-aggtcccgcctgcccagagacggg-atttaacggccgcggtactctgaccgtgcaaaggtagcacaatcacttgttctctaaatagggactagaatcaacggcatcacgagggtcttactgtctcctttttccaatcagtgaaactgatcttcccgtgaagaagcgggaataactttataagacgagaagaccccatggagctttaaactcaatagttaccccatgcaaactacacgacaa-cta-agggaaataactattaattttaggttggggtgaccgcggagaatagtccaacctccgcaatgaaaagaataaaatccttatctacgagta-acacctctaagaattaacagattaacatataatgatccaattttatt----tttgatcaatgaaccaagttaccctggggataacagcgccatccactttgagagttcatatcgacaagtgggtttacgacctcgatgttggatcagggtattccagtggtgcagccgctactaaaggttcgtttgttcaacgattaaaaccct-------------'], ['>Ptychadena aff. aequiplicata, Cameroon, Dja Reserve', '--------------------------attcaacggccgcggtactctgaccgtgcaaaggtagcacaatcacttgttctctaaataaggactagaatcaacggcatcacgagggtcccactgtctcctttttctaatcagtgaaactgatcttcccgtgaagaagcgggaataactctataagacgagaagaccccatggagcttcaaactcaccagctaccccatgcaaatcacacgacaattta-agggaagtatctgttagttttgggttggggtgaccgcggagaataacacatcctccgcaatgaaaagaatagcatccttatccaagagcc-acatctctatgaattaataatttaacatatagtgttccgatactttg--tattcgatcaatgaaccaagttaccctggggataacagcgccatccactttgagagtccatatcgacaagtgggtttacgacctcgatgttggatcagggtatcccagtggtgcagccgctactaaaggttcgtttgttcaacgattaaaaccct-------------'], ['>Ptychadena anchietae, Kenya, Kararacha Pond', '------------------------------------------------------------------------------------------------tcaatggcttcacgagggttacactgtctcctttttctaatcagtgaaactgatctccccgtgaagaagcggggatattactataagacgagaagaccccatggagctttaaactaaataggtaacctctacaaattacatggtaa-tct-tggcttttatctattagttttgggttggggtgaccgcggagaatagcctaacctccgcaatgaaaagaataatatcctaatctaagaggg-acacctctaagaattaataaattaacatatgatgatccaatacttac---atttgatcaatgaaccaagttaccctggggataacagcgcaatccacttcaagagtccctatcgacaagtgggtttacgacctcgatgttggatcagggtatcccggtggtgcagccgctactaaaggttcgtttgttcaacgattaaaaccct-------------'], ['>Ptychadena anchietae, Somalia, Karin, Bari Region', '--------------------------attcaacggccgcggtactctnnccgtgcgaaggtagcacaataacttgttctttaaataaggactagaatcaatggcttcacgagggttacactgtctcctttttctaatcagtgaaactgatccccccgtgaagaagcggggatattactataagacgagaagaccccatggagctttaaactaaataggtaacctctacaaattacatggtaa-tct-tggcttttatctattagttttgggttggggtgaccgcggagaatagcctaacctccgcaatgaaaagaataatatcctaatctaagagag-acacctctaagaattaataaattaacgtatgatgatccaatacttac---atttgatcaatgaaccaagttaccctggggataacagcgcaatccacttcaagagtccctatcgacaagtgggtttacgacctcgatgttggatcagggtatcccggtggtgcagccgctactaaaggttcgtttgttcaacgattaaaaccct-------------'], ['>Ptychadena anchietae, Somalia, Karin, Bari Region', '--------------------------------------------------cgtgcgaaggtagcacaataacttgttctttaaataaggactagaatcaatggcttcacgagggttacactgtctcctttttctaatcagtgaaactgatccccccgtgaagaagcggggatattactataagacgagaagaccccatggagctttaaactaaataggtaacctctacaaattacatggtaa-tct-tggcttttatctattagttttgggttggggtgaccgcggagaatagcctaacctccgcaatgaaaagaataatatcctaatctaagaggg-acacctctaagaattaataaattaacgtatgatgatccaatacttac---atttgatcaatgaaccaagttaccctggggataacagcgcaatccacttcaagagtccctatcgacaagtgggtttacgacctcgatgttggatcagggtatcccggtggtgcagccgctactaaaggttcgtttgttcaacgattaaaaccct-------------'], ['>Ptychadena nilotica, Uganda, Lake Victoria', 'gaggtccagcctgcccggtgacgaaagtttaacggccgcggtatcctgaccgtgcaaaggtagcataatcacttgttctttaaatggggactagaatcaacggcatcacgagggtcttactgtctcctttctctaatcagtgaaactgatctctccgtgaagaagcggggataaaaatataagacgagaagaccccatggagcttcaagctcaacaagtactcttttccactaaccttacagactc-tagaatctacttgttagctttaggttggggtgaccgcggagaaaaacttaacctccataatgaaaagaataaaatcctaatctatgagcc-acacctctaagaatcaacaaattgacataaaatgacccgata--------attcgatcaatgaaccaagttaccctggggataacagcgccatccacttcaagagcccatatcgacgagtgggtttacgacctcgatgttggatcagggtgtcccagtggtgcagccgctactaaaggttcgtttgttcaacgattaaaaccct-------------'], ['>Ptychadena nilotica, Kenya, Makuru', '-aggtccagcctgcccggtgacgaaagtttaacggccgcggtatcctgaccgtgcaaaggtagcataatcacttgttctttaaatggggactagaatcaacggcatcacgagggtcttactgtctcctttctctaatcagtgaaactgatctctccgtgaagaagcggggataaagatataagacgagaagaccccatggagcttcaagctcaacaagtactcttttccactaaccttacagactc-tagaatctacttgttggctttaggttggggtgaccgcggagaaaaacttaacctccataatgaaaagaataaaatcctaatctatgagcc-acacctctaagaatcaacaaattgacataaaatgacccgata--------attcgatcaatgaaccaagttaccctggggataacagcgccatccacttcaagagcccatatcgacgagtgggtttacgacctcgatgttggatcagggtgtcccagtggtgcagccgctactaaaggttcgtttgttcaacgattaaaaccct-------------'], ['>Ptychadena nilotica, Kenya, Mt Kenya', 'gaggtccagcctgcccggtgacgaaagtttaacggccgcggtatcctgaccgtgcaaaggtagcataatcacttgttctttaaatggggactagaatcaacggcatcacgagggtcttactgtctcctttctctaatcagtgaaactgatctctccgtgaagaagcggggataaagatataagacgagaagaccccatggagcttcaagctcaacaagtactcttttccactaaccttacagactc-tagaatctacttgttagctttaggttggggtgaccgcggagaaaaacttaacctccataatgaaaagaataaaatcctaatctatgagcc-acacctctaagaatcaacaaattgacataaaatgacccgata--------attcgatcaatgaaccaagttaccctggggataacagcgccatccacttcaagagcccatatcgacgagtgggtttacgacctcgatgttggatcagggtgtcccagtggtgcagccgctactaaaggttcgtttgttcaacgattaaaaccct-------------'], ['>Ptychadena nilotica, Kenya, Mt Kenya', '----tccagcctgcccggtgacgaaagtttaacggccgcggtatcctgaccgtgcaaaggtagcataatcacttgttctttaaatggggactagaatcaacggcatcacgagggtcttactgtctcctttctctaatcagtgaaactgatctctccgtgaagaagcggggataaagatataagacgagaagaccccatggagcttcaagctcaacaagtactcttttccactaaccttacagactc-tagaatctacttgttagctttaggttggggtgaccgcggagaaaaacttaacctccataatgaaaagaataaaatcctaatctatgagcc-acacctctaagaatcaacaaattgacataaaatgacccgata--------attcgatcaatgaaccaagttaccctggggataacagcgccatccacttcaagagcccatatcgacgagtgggtttacgacctcgatgttggatcagggtgtcccagtggtgcagccgctactaaaggttcgtttgttcaacgattaaaaccct-------------'], ['>Ptychadena nilotica, Kenya, Taita Hills', '-----------------------------------------tatcctgaccgtgcaaaggtagcataatcacttgttctttaaatggggactagaatcaacggcatcacgagggtcttactgtctcctttctctaatcagtgaaactgatctctccgtgaagaagcggggataaagatataagacgagaagaccccatggagcttcaagctcaacaagtactcttttccactaaccttacagactc-tagaatctacttgttagctttaggttggggtgaccgcggagaaaaacttaacctccataatgaaaagaataaaatcctaatctatgagcc-acacctctaagaatcaacaaattgacataaaatgacccgata--------attcgatcaatgaaccaagttaccctggggataacagcgccatccacttcaagagcccatatcgacgagtgggtttacgacctcgatgttggatcagggtgtcccagtggtgcagccgctactaaaggttcgtttgttcaacgattaaaaccct-------------'], ['>Ptychadena nilotica, Kenya, Taita Hills', '-----------------------------------------------------------gtagcataatcacttgttctttaaatggggactagaatcaacggcatcacgagggtcttactgtctcctttctctaatcagtgaaactgatctctccgtgaagaagcggggataaagatataagacgagaagaccccatggagcttcaagctcaacaagtactcttttccactaaccttacagactc-tagaatctacttgttagctttaggttggggtgaccgcggagaaaaacttaacctccataatgaaaagaataaaatcctaatctatgagcc-acacctctaagaatcaacaaattgacataaaatgacccgata--------attcgatcaatgaaccaagttaccctggggataacagcgccatccacttcaagagcccatatcgacgagtgggtttacgacctcgatgttggatcagggtgtcccagtggtgcagccgctactaaaggttcgtttgttcaacgattaaaaccct-------------'], ['>Ptychadena nilotica, Tanzania, Kibebe farm', '--------------------------gtttaacggccgcggtatcctgaccgtgcaaaggtagcataatcacttgttctttaaatggggactagaatcaacggcatcacgagggtcttactgtctcctttctctaatcagtgaaactgatctctccgtgaagaaccggggataaaaatataagacgagaagaccccatggagcttcaagctcaacaagtactctttttcaccaaccttacagactc-tagaatctatttgttagctttgggttggggtgaccgcggagaaaaactcaacctccataatgaaaagaataaaatcctaatccatgagttaacacctctaagaatcaacaaattgacataaaatgacccgatat-------cttcgatcaatgaaccaagttaccctggggataacagcgccatccacttcaagagcccatatcgacaagtgggtttacgacctcgatgttggatcagggtgtcccagtggtgcagccgctactaaaggttcgtttgttcaacgattaaaaccct-------------'], ['>Ptychadena aff. mascareniensis, Guinea', 'gaggtccagcctgcccggtgaatca-atttaacggccgcggtatcctgaccgtgcgaaggtagcataatcacttgttctttaaatgaggactagaatcaacggcatcacgagggtcttactgtctcctttcctcaatcagtgaaactgatctctccgtgaagaagcggggatgaacatataagacgagaagaccccatggagctttaagcccaacatgtactctttttaactaacctcataatctt-aagaatctacttgttggctttgggttggggtgaccgcggagaataacttaacctccataatgaaaagaataaaatcctaatctaagagtctacacctctaagaatcaacaaattggcataaaatgacccgata--------tttcgatcaatgaaccaagttaccctggggataacagcgccatccacttcaagagcccctatcgacgagtgggtttacgacctcgatgttggatcagggtgtcccagtggtgcagccgctactaaaggttcgtttgttcaacgattaaaaccct-------------'], ['>Ptychadena aff. mascareniensis, Uganda, Kampala', '--ggtccagcctgcccggtgaatca-atttaacggccgcggtatcctgaccgtgcgaaggtagcataatcacttgttctttaaatgaggactagaatcaacggcatcacgagggtcttactgtctcctttccccaatcagtgaaactgatctctccgtgaagaagcggggatgaacctataagacgagaagaccccatggagcttcaagctcaacaaatactctttcaaatcaacctcatatcttt-aagaatctacttgttagctttgggttggggtgaccgcggagaaaaacttaacctccataatgaaaagaatagaatcctaatctaagagtcaacacctctaagaatcaataaattgacataaaatgacccgaca--------tttcgatcaatgaaccaagttaccctggggataacagcgccatccacttcaagagcccctatcgacgagtgggtttacgacctcgatgttggatcagggtgtcccagtggtgcagccgctactaaaggttcgtttgttcaacgattaaaaccct-------------'], ['>Ptychadena aff. mascareniensis, Central African Republic, Dzanga-Sangha Reserve', 'gaggtccagcctgcccggtgaacca-atttaacggccgcggtatcctgaccgtgcgaaggtagcataatcacttgttctttaaatgaggactagaatcaacggcatcacgagggtcttactgtctcctttccccaatcagtgaaactgatctctccgtgaagaagcggggatgaatatataagacgagaagaccccatggagcttcaagctcaacaaataccctttcaaactgacctcatatttttcaaggatctacttgttagctttgggttggggtgaccgcggagaaaaacctaacctccataatgaaaagaataaaatcctaatctatgagtctacacctctaagaatcaataaattgacataaaatgacccgaca--------tttcgatcaatgaaccaagttaccctggggataacagcgccatccactt----------------------------------------------------------------------------------------------------------------------'], ['>Ptychadena oxyrhynchus, Malawi', 'gaggtcccgcctgcccagtgacagg-attcaacggccgcggtactctaaccgtgcgaaggtagcacaatagcttgttctttaaataaggactagaatcaatggcttcacgagggttgtactgtctcctttttctaatcagtgaaactgatctccccgtgaagaagcggggatatttatataagacgagaagaccccatggagctttaaactcaatagatactcctctgctctaacatgatat-ctt-aggcacctatctattagttttgggttggggtgaccacggagtacaatctagcctccgcaatgaaaagaataatatcctaatccatgaggg-acacctctaagaattaatatattagcatacactgatccaataacc-t---atttgatcaatgaaccaagttaccctggggataacagcgcgatccacttcaagagttcctatcgacgagtgggtttacgacctcgatgttggatcagggtatcccggtggtgcagccgctactaaaggttcgtttgttcaacgattaaaaccct-------------'], ['>Ptychadena aff. porosissima, Tanzania, Tatanda', '------------------tgacagg-atttaacggccgcggtactctgaccgtgcaaaggtagcacaatcacttgttctctaaatagggactagaatcaatggcatcacgaaggtcccactgtctcctttttctaatcagtgaaactgatcttcccgtgaagaagcgggaataactttataagacgagaagaccccatggagcttcaaattcaatagttacctcatgtaaactacacgacaa-tta-agagaaatagctattaattttggattggggtgatcacggaaaatagtacaacctccgcaatgaatagaac-atattcttatccatgagcg-acacctctaagaattattaaattatcatacaatgatccgatattact---attcgatcaatgaaccaagttaccctggggataacagcgccatccactttaagagttcatatcgacaagtgggtttacgacctcgatgttggatcagggtatcccagtggtgcagccgctactaaaggttcgtttgttcaacgattaaaaccct-------------'], ['>Ptychadena porosissima, Tanzania, Mumba', '------------------tgacaag-attcaacggccgcggtactctgaccgtgcaaaggtagcacaatcacttgttctctaaataaggactagaatcaacggcatcacgaaggtcttactgtctcctttttctaatcagtgaaactgatcttcccgtgaagaagcgggaataaccctataagacgagaagaccccatggagcttcaaactcaatagttaccccatgtaaaatacacgataa-ttt-agggagataactattaattttgggttggggtgaccacggagaatagtttagcctccgcaatgaaaagaataacatccttatccatgagcg-acacctctaagaattaataaattagcatataatgatccgatttccta----ttcgatcaatgaaccaagttaccctggggataacagcgccatccactttgagagttcatatcgacaagtgggtttacgacctcgatgttggatcagggtatcccagtggtgcagccgctactaaaggttcgtttgttcaacgattaaaaccct-------------'], ['>Ptychadena pumilio, Guinea, Mont Bero', 'gaggtcccgcctgcccggtgacaaa-gtttaacggccgcggtatcctgaccgtgcgaaggtagcataatcacttgttctttaaataaggactagaatcaacggcatcacgaggatctaactgtctcctttctctaatcagtgaaactgatctccccgtgaagaagcggggataaatatataagacgagaagaccccatggagcttcaaactcagcaattacccctcataaattaccttttatcttt-aagggcctacttgctagctttgggttggggtgaccgcggagtagaattaaacctccacaatgaaaagaatgatatcctaatctaaaagcc-acacnnntaagaattaaaacattaacacacagtgacccgactt-------gatcgatcaatgaaccaagttaccctggggataacagcgccatccacttcaagagtccttatcgacaagtgggtttacgacctcg----------------------------------------------------------------------------------'], ['>Ptychadena taenioscelis, Kenya, Kakamega', '-aggtcccgcctgcccggtgacaga-gtttaacggccgcggtatcctgaccgtgcgaaggtagcataatcacttgttctttaaatagggactagaatcaacggcgtcacgagggtcttactgtctcctttttctaatcagtgaaattgatctccccgtgaagaagcagggatgataatataagacgagaagaccccatggagcttcaagctcaacaactactcctcataaactacattatagcccc-aaggacctacttgttagctttaggttggggtgaccgcggagtaaaactcaacctccatagtgaaaagaataaaatccttatccaagagct-acgcctctaagaattagaacactaacacaaaatgacccgaatt-------actcgatcaatgaaccaagttaccctggggataacagcgccatccacttcaagagcccctatcgacaagtgggtttacgacctcgatgttggatcagggtaccccagtggtgcagccgctactaaaggttcgtttgttcaacgattaaaaccct-------------'], ['>Ptychadena sp., Tanzania, Mikumi', '------------------tgacagg-attcaacggccgcggtaccctgaccgtgcgaaggtagcataatcacttgttctttaaataaggactggaatcaacggcatcacgagggttacactgtctcctttttccaatcagtgaaattgatctccccgtgaagaagcggggataaatatataagacgagaagaccccatggagcttcaagctcaacatttaccccttataactaactctatatacta-agggatctacttgttagctttgggttggggtgaccacggagaaaaatctaacctccataatgaaaagaatagtatccttatccgagagcc-acatctctaagagttaatatattagcataaaatgacccgatt--------tttcgatcaatgaaccaagttaccctggggataacagcgctatccacttcaagagctcatatcgacaagtgggtttacgacctcgatgttggatcagggtgtcccagtggtgcagccgctactaaaggtttgtttgttcaacaattaaaaccct-------------'], ['>Ptychadena aff. uzungwensis, Tanzania, Njombe', '-------------------------------acggccgcggtactctgaccgtgcaaaggtagcacaatcacttgttctctaaatagggactagaatcaacggcatcacgagggtcttactgtctcccttttctaatcagtgaaactgatcttcccgtgaagaagcgggaataactttataagacgagaagaccccatggagcttcaaactcaatagttaccccatgcaaactacacgacaa-ctt-agggaaataactattaattttaggttggggtgaccacggagaatagcctaacctccgcaatgaaaagaatgatatccttatctatgagat-acatctctaagaattaacaaattagcataaaatgatccgatctatttaccattcgatcaatgaaccaagttaccctggggataacagcgccatccactttgagagttcatatcgacaagtgggtttacgacctcgatgttggatcagggtatcccagtggtgcagccgctactaaaggttcgtttgttcaacgattaaaaccct-------------']]\n"
          ]
        }
      ]
    },
    {
      "cell_type": "code",
      "source": [
        "from operator import itemgetter\n",
        "def simDNA(seq1, seq2):\n",
        "  total_compared = 0\n",
        "  similar = 0\n",
        "  for i in range(len(seq1)):\n",
        "    if(not((seq1[i] == '-') or (seq2[i] == '-'))):\n",
        "        if(seq1[i]==seq2[i]):\n",
        "          similar+=1\n",
        "        total_compared+=1\n",
        "\n",
        "  return float(similar)/float(total_compared)\n",
        "\n",
        "\n",
        "def print_top_three(sorted_comparison):\n",
        "  print(\"frog \" + str(i + 1) + \" top 3: \" )\n",
        "  print(\"1.\" + sorted_comparison[0][0])\n",
        "  print(\"2.\" + sorted_comparison[1][0])\n",
        "  print(\"3.\" + sorted_comparison[2][0])\n",
        "\n",
        "for i in range(3):\n",
        "  seq1 = sao_seqs[i][1]\n",
        "  sorted_comparison = []\n",
        "  for j in range(len(africa_seqs)):\n",
        "    seq2 = africa_seqs[j][1]\n",
        "    sorted_comparison.append([africa_seqs[j][0], simDNA(seq1, seq2)])\n",
        "  #now to sort the list we just produced\n",
        "  sorted_comparison = sorted(sorted_comparison, key=itemgetter(1), reverse = True)\n",
        "  print(\"\")\n",
        "  print_top_three(sorted_comparison)\n"
      ],
      "metadata": {
        "colab": {
          "base_uri": "https://localhost:8080/"
        },
        "id": "8qKzdgkKncU5",
        "outputId": "de4389f9-1065-4ff7-d7e7-21db1c09f1ce"
      },
      "execution_count": null,
      "outputs": [
        {
          "output_type": "stream",
          "name": "stdout",
          "text": [
            "\n",
            "frog 1 top 3: \n",
            "1.>Ptychadena nilotica, Tanzania, Kibebe farm\n",
            "2.>Ptychadena nilotica, Uganda, Lake Victoria\n",
            "3.>Ptychadena nilotica, Kenya, Mt Kenya\n",
            "\n",
            "frog 2 top 3: \n",
            "1.>Ptychadena nilotica, Tanzania, Kibebe farm\n",
            "2.>Ptychadena nilotica, Uganda, Lake Victoria\n",
            "3.>Ptychadena nilotica, Kenya, Mt Kenya\n",
            "\n",
            "frog 3 top 3: \n",
            "1.>Ptychadena nilotica, Tanzania, Kibebe farm\n",
            "2.>Ptychadena nilotica, Uganda, Lake Victoria\n",
            "3.>Ptychadena nilotica, Kenya, Mt Kenya\n"
          ]
        }
      ]
    },
    {
      "cell_type": "markdown",
      "source": [
        "Each of the frogs from Sao Tome's top 3 matches were of the Ptychadena nilotica species. The species specific locations were 1: Kibebe Farm, Tanzania 2: Lake Victoria, Uganda, and 3: Mt. Kenya, Kenya. They are all from around Central Eastern Africa centered around those 3 countries. Interestingly, this region is on the opposite side of Africa compared to Sao Tome."
      ],
      "metadata": {
        "id": "G2CyzV9hyxrh"
      }
    },
    {
      "cell_type": "markdown",
      "source": [
        "---"
      ],
      "metadata": {
        "id": "Du6YvQPETo-g"
      }
    },
    {
      "cell_type": "markdown",
      "source": [
        "### Submission instructions"
      ],
      "metadata": {
        "id": "aJAscGKQIAnj"
      }
    },
    {
      "cell_type": "markdown",
      "source": [],
      "metadata": {
        "id": "bXYlIu7RCwEa"
      }
    },
    {
      "cell_type": "markdown",
      "source": [
        "When you're finished, recall the steps for submitting Colab notebooks:\n",
        "\n",
        "1. Run all the cells from top-to-bottom, in order (`Runtime` > `Run all`).\n",
        "2. Once the entire notebook has completed running and the output of all cells is visible, save it (`File` > `Save`).\n",
        "3. Download the notebook in `.ipynb` format (`File` > `Download` > `Download .ipynb`).\n",
        "4. Rename the file according to the usual convention (`lastname_firstname_hw#.ipynb`), if you haven't already.\n",
        "5. Upload the file to Canvas.\n"
      ],
      "metadata": {
        "id": "mNiIL0tcIE-S"
      }
    }
  ]
}